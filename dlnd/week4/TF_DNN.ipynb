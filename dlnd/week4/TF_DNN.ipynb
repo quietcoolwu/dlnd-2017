{
 "cells": [
  {
   "cell_type": "markdown",
   "metadata": {},
   "source": [
    "## DNN with TensorFlow"
   ]
  },
  {
   "cell_type": "code",
   "execution_count": 6,
   "metadata": {
    "collapsed": true
   },
   "outputs": [],
   "source": [
    "import tensorflow as tf\n",
    "from tensorflow.examples.tutorials.mnist import input_data"
   ]
  },
  {
   "cell_type": "code",
   "execution_count": 18,
   "metadata": {
    "collapsed": false
   },
   "outputs": [
    {
     "name": "stdout",
     "output_type": "stream",
     "text": [
      "[[  5.10999966   8.43999958]\n",
      " [  0.           0.        ]\n",
      " [ 24.01000214  38.24000168]]\n"
     ]
    }
   ],
   "source": [
    "def tf_dnn_1():\n",
    "    output = None\n",
    "    hidden_layer_weights = [\n",
    "        [0.1, 0.2, 0.4],\n",
    "        [0.4, 0.6, 0.6],\n",
    "        [0.5, 0.9, 0.1],\n",
    "        [0.8, 0.2, 0.8]]\n",
    "    out_weights = [\n",
    "        [0.1, 0.6],\n",
    "        [0.2, 0.1],\n",
    "        [0.7, 0.9]]\n",
    "\n",
    "    # Weights and biases\n",
    "    weights = [\n",
    "        tf.Variable(hidden_layer_weights),\n",
    "        tf.Variable(out_weights)]\n",
    "    biases = [\n",
    "        tf.Variable(tf.zeros(3)),\n",
    "        tf.Variable(tf.zeros(2))]\n",
    "\n",
    "    # Input\n",
    "    features = tf.Variable([[1.0, 2.0, 3.0, 4.0], [-1.0, -2.0, -3.0, -4.0], [11.0, 12.0, 13.0, 14.0]])\n",
    "\n",
    "    # TODO: Create Model\n",
    "    hidden_layer = tf.add(tf.matmul(features, weights[0]), biases[0])\n",
    "    hidden_layer = tf.nn.relu(hidden_layer)\n",
    "\n",
    "    output = tf.add(tf.matmul(hidden_layer, weights[1]), biases[1])\n",
    "\n",
    "    with tf.Session() as sess:\n",
    "        sess.run(tf.global_variables_initializer())\n",
    "        output = sess.run(output)\n",
    "\n",
    "    # TODO: Print session results\n",
    "    print(output)\n",
    "\n",
    "tf_dnn_1()"
   ]
  },
  {
   "cell_type": "code",
   "execution_count": 20,
   "metadata": {
    "collapsed": false
   },
   "outputs": [
    {
     "name": "stdout",
     "output_type": "stream",
     "text": [
      "Extracting ./datasets/train-images-idx3-ubyte.gz\n",
      "Extracting ./datasets/train-labels-idx1-ubyte.gz\n",
      "Extracting ./datasets/t10k-images-idx3-ubyte.gz\n",
      "Extracting ./datasets/t10k-labels-idx1-ubyte.gz\n",
      "429 55000\n",
      "(128, 28, 28, 1) (128, 10) [ 1.  0.  0.  0.  0.  0.  0.  0.  0.  0.] <class 'tuple'>\n",
      "429 55000\n",
      "(128, 28, 28, 1) (128, 10) [ 0.  1.  0.  0.  0.  0.  0.  0.  0.  0.] <class 'tuple'>\n",
      "429 55000\n",
      "(128, 28, 28, 1) (128, 10) [ 0.  0.  1.  0.  0.  0.  0.  0.  0.  0.] <class 'tuple'>\n",
      "429 55000\n",
      "(128, 28, 28, 1) (128, 10) [ 0.  0.  0.  0.  0.  1.  0.  0.  0.  0.] <class 'tuple'>\n",
      "429 55000\n",
      "(128, 28, 28, 1) (128, 10) [ 0.  0.  0.  0.  0.  0.  0.  0.  0.  1.] <class 'tuple'>\n",
      "429 55000\n",
      "(128, 28, 28, 1) (128, 10) [ 0.  0.  0.  0.  0.  0.  1.  0.  0.  0.] <class 'tuple'>\n",
      "429 55000\n",
      "(128, 28, 28, 1) (128, 10) [ 0.  0.  0.  0.  0.  0.  1.  0.  0.  0.] <class 'tuple'>\n",
      "429 55000\n",
      "(128, 28, 28, 1) (128, 10) [ 0.  0.  0.  0.  0.  0.  0.  1.  0.  0.] <class 'tuple'>\n",
      "429 55000\n",
      "(128, 28, 28, 1) (128, 10) [ 0.  0.  0.  0.  0.  0.  0.  0.  0.  1.] <class 'tuple'>\n",
      "429 55000\n",
      "(128, 28, 28, 1) (128, 10) [ 0.  0.  0.  0.  1.  0.  0.  0.  0.  0.] <class 'tuple'>\n",
      "429 55000\n",
      "(128, 28, 28, 1) (128, 10) [ 0.  0.  1.  0.  0.  0.  0.  0.  0.  0.] <class 'tuple'>\n",
      "429 55000\n",
      "(128, 28, 28, 1) (128, 10) [ 0.  0.  1.  0.  0.  0.  0.  0.  0.  0.] <class 'tuple'>\n",
      "429 55000\n",
      "(128, 28, 28, 1) (128, 10) [ 0.  0.  0.  0.  0.  0.  1.  0.  0.  0.] <class 'tuple'>\n",
      "429 55000\n",
      "(128, 28, 28, 1) (128, 10) [ 0.  0.  0.  0.  0.  0.  0.  0.  1.  0.] <class 'tuple'>\n",
      "429 55000\n",
      "(128, 28, 28, 1) (128, 10) [ 0.  0.  0.  0.  0.  0.  1.  0.  0.  0.] <class 'tuple'>\n",
      "429 55000\n",
      "(128, 28, 28, 1) (128, 10) [ 0.  1.  0.  0.  0.  0.  0.  0.  0.  0.] <class 'tuple'>\n",
      "429 55000\n",
      "(128, 28, 28, 1) (128, 10) [ 0.  0.  0.  1.  0.  0.  0.  0.  0.  0.] <class 'tuple'>\n",
      "429 55000\n",
      "(128, 28, 28, 1) (128, 10) [ 0.  1.  0.  0.  0.  0.  0.  0.  0.  0.] <class 'tuple'>\n",
      "429 55000\n",
      "(128, 28, 28, 1) (128, 10) [ 1.  0.  0.  0.  0.  0.  0.  0.  0.  0.] <class 'tuple'>\n",
      "429 55000\n",
      "(128, 28, 28, 1) (128, 10) [ 0.  0.  0.  1.  0.  0.  0.  0.  0.  0.] <class 'tuple'>\n",
      "Final Output: None\n"
     ]
    }
   ],
   "source": [
    "def tf_dnn_2():\n",
    "    mnist = input_data.read_data_sets(\"./datasets\", one_hot=True, reshape=False)\n",
    "    \n",
    "    # Parameters\n",
    "    learning_rate = 0.001\n",
    "    training_epochs = 20\n",
    "    batch_size = 128  # Decrease batch size if you don't have enough memory\n",
    "    display_step = 1\n",
    "\n",
    "    n_input = 784  # MNIST data input (img shape: 28*28)\n",
    "    n_classes = 10  # MNIST total classes (0-9 digits)\n",
    "    \n",
    "    n_hidden_layer = 256 # layer number of features\n",
    "    \n",
    "    # Store layers weight & bias\n",
    "    weights = {\n",
    "        'hidden_layer': tf.Variable(tf.random_normal([n_input, n_hidden_layer])),\n",
    "        'out': tf.Variable(tf.random_normal([n_hidden_layer, n_classes]))\n",
    "    }\n",
    "    biases = {\n",
    "        'hidden_layer': tf.Variable(tf.random_normal([n_hidden_layer])),\n",
    "        'out': tf.Variable(tf.random_normal([n_classes]))\n",
    "    }\n",
    "    \n",
    "    # tf Graph input: x -> single channel, y: 0-9 -> 10 labels\n",
    "    x = tf.placeholder(\"float\", [None, 28, 28, 1])\n",
    "    y = tf.placeholder(\"float\", [None, n_classes])\n",
    "    x_flat = tf.reshape(x, [-1, n_input])\n",
    "    \n",
    "    # Hidden layer with RELU activation\n",
    "    layer_1 = tf.add(tf.matmul(x_flat, weights['hidden_layer']), biases['hidden_layer'])\n",
    "    layer_1 = tf.nn.relu(layer_1)\n",
    "    # Output layer with linear activation\n",
    "    logits = tf.add(tf.matmul(layer_1, weights['out']), biases['out'])\n",
    "    \n",
    "    cost = tf.reduce_mean(tf.nn.softmax_cross_entropy_with_logits(logits=logits, labels=y))\n",
    "    optimizer = tf.train.GradientDescentOptimizer(learning_rate=learning_rate).minimize(cost)\n",
    "    \n",
    "    # Initializing the variables\n",
    "    init = tf.global_variables_initializer()\n",
    "    output = None\n",
    "    \n",
    "    # Launch the graph\n",
    "    with tf.Session() as sess:\n",
    "        sess.run(init)\n",
    "        # Training cycle\n",
    "        for epoch in range(training_epochs):\n",
    "            total_batch = int(mnist.train.num_examples/batch_size)\n",
    "            print(total_batch, mnist.train.num_examples)\n",
    "            # Loop over all batches\n",
    "            for i in range(total_batch):\n",
    "                batch_x, batch_y = mnist.train.next_batch(batch_size)\n",
    "                # Run optimization op (backprop) and cost op (to get loss value)\n",
    "                sess.run(optimizer, feed_dict={x: batch_x, y: batch_y})\n",
    "            # (128, 28, 28, 1) (128, 10) [ 1.  0.  0.  0.  0.  0.  0.  0.  0.  0.]\n",
    "            # y; One-hot encoding \n",
    "            print(batch_x.shape, batch_y.shape, batch_y[0])\n",
    "    \n",
    "    # assert output is not None\n",
    "    return output\n",
    "\n",
    "print('Final Output: {}'.format(tf_dnn_2()))"
   ]
  },
  {
   "cell_type": "code",
   "execution_count": null,
   "metadata": {
    "collapsed": true
   },
   "outputs": [],
   "source": []
  }
 ],
 "metadata": {
  "kernelspec": {
   "display_name": "Python 3",
   "language": "python",
   "name": "python3"
  },
  "language_info": {
   "codemirror_mode": {
    "name": "ipython",
    "version": 3
   },
   "file_extension": ".py",
   "mimetype": "text/x-python",
   "name": "python",
   "nbconvert_exporter": "python",
   "pygments_lexer": "ipython3",
   "version": "3.5.2"
  }
 },
 "nbformat": 4,
 "nbformat_minor": 2
}
