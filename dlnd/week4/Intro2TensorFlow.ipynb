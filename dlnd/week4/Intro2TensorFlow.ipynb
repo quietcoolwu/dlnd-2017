{
 "cells": [
  {
   "cell_type": "markdown",
   "metadata": {},
   "source": [
    "## TensorFlow: A Short Introduction"
   ]
  },
  {
   "cell_type": "code",
   "execution_count": 11,
   "metadata": {
    "collapsed": true
   },
   "outputs": [],
   "source": [
    "import numpy as np\n",
    "import tensorflow as tf\n",
    "from tensorflow.examples.tutorials.mnist import input_data\n",
    "\n",
    "def get_weights(n_features, n_labels):\n",
    "    \"\"\"\n",
    "    Return TensorFlow weights\n",
    "    :param n_features: Number of features\n",
    "    :param n_labels: Number of labels\n",
    "    :return: TensorFlow weights\n",
    "    \"\"\"\n",
    "    # TODO: Return weights\n",
    "    return tf.Variable(tf.truncated_normal((n_features, n_labels)))\n",
    "\n",
    "\n",
    "def get_biases(n_labels):\n",
    "    \"\"\"\n",
    "    Return TensorFlow bias\n",
    "    :param n_labels: Number of labels\n",
    "    :return: TensorFlow bias\n",
    "    \"\"\"\n",
    "    # TODO: Return biases\n",
    "    return tf.Variable(tf.zeros(n_labels))\n",
    "\n",
    "\n",
    "def linear(_input, w, b):\n",
    "    \"\"\"\n",
    "    Return linear function in TensorFlow\n",
    "    :param input: TensorFlow input\n",
    "    :param w: TensorFlow weights\n",
    "    :param b: TensorFlow biases\n",
    "    :return: TensorFlow linear function\n",
    "    \"\"\"\n",
    "    # TODO: Linear Function (xW + b)\n",
    "    return tf.add(tf.matmul(_input, w), b)"
   ]
  },
  {
   "cell_type": "code",
   "execution_count": 43,
   "metadata": {
    "collapsed": false
   },
   "outputs": [
    {
     "name": "stdout",
     "output_type": "stream",
     "text": [
      "Extracting ./datasets/ud730/mnist/train-images-idx3-ubyte.gz\n",
      "Extracting ./datasets/ud730/mnist/train-labels-idx1-ubyte.gz\n",
      "Extracting ./datasets/ud730/mnist/t10k-images-idx3-ubyte.gz\n",
      "Extracting ./datasets/ud730/mnist/t10k-labels-idx1-ubyte.gz\n",
      "Loss: 5.444807052612305\n"
     ]
    }
   ],
   "source": [
    "def mnist_features_labels(n_labels):\n",
    "    \"\"\"\n",
    "    Gets the first <n> labels from the MNIST dataset\n",
    "    :param n_labels: Number of labels to use\n",
    "    :return: Tuple of feature list and label list\n",
    "    \"\"\"\n",
    "    mnist_features = []\n",
    "    mnist_labels = []\n",
    "\n",
    "    mnist = input_data.read_data_sets('./datasets/ud730/mnist', one_hot=True)\n",
    "\n",
    "    # In order to make quizzes run faster, we're only looking at 10000 images\n",
    "    for mnist_feature, mnist_label in zip(*mnist.train.next_batch(10000)):\n",
    "\n",
    "        # Add features and labels if it's for the first <n>th labels\n",
    "        if mnist_label[:n_labels].any():\n",
    "            mnist_features.append(mnist_feature)\n",
    "            mnist_labels.append(mnist_label[:n_labels])\n",
    "\n",
    "    return mnist_features, mnist_labels\n",
    "\n",
    "def run_lin_func_test():\n",
    "    # Number of features (28*28 image is 784 features)\n",
    "    n_features = 784\n",
    "    # Number of labels\n",
    "    n_labels = 3\n",
    "\n",
    "    # Features and Labels\n",
    "    features = tf.placeholder(tf.float32)\n",
    "    labels = tf.placeholder(tf.float32)\n",
    "\n",
    "    # Weights and Biases\n",
    "    w = get_weights(n_features, n_labels)\n",
    "    b = get_biases(n_labels)\n",
    "\n",
    "    # Linear Function xW + b\n",
    "    logits = linear(features, w, b)\n",
    "\n",
    "    # Training data\n",
    "    train_features, train_labels = mnist_features_labels(n_labels)\n",
    "\n",
    "    with tf.Session() as session:\n",
    "        # TODO: Initialize session variables\n",
    "        session.run(tf.global_variables_initializer())\n",
    "\n",
    "        # Softmax\n",
    "        prediction = tf.nn.softmax(logits)\n",
    "\n",
    "        # Cross entropy\n",
    "        # This quantifies how far off the predictions were.\n",
    "        # You'll learn more about this in future lessons.\n",
    "        cross_entropy = -tf.reduce_sum(\n",
    "            labels * tf.log(prediction), reduction_indices=1)\n",
    "\n",
    "        # Training loss\n",
    "        # You'll learn more about this in future lessons.\n",
    "        loss = tf.reduce_mean(cross_entropy)\n",
    "\n",
    "        # Rate at which the weights are changed\n",
    "        # You'll learn more about this in future lessons.\n",
    "        learning_rate = 0.08\n",
    "\n",
    "        # Gradient Descent\n",
    "        # This is the method used to train the model\n",
    "        # You'll learn more about this in future lessons.\n",
    "        optimizer = tf.train.GradientDescentOptimizer(learning_rate).minimize(loss)\n",
    "\n",
    "        # Run optimizer and get loss\n",
    "        _, loss = session.run(\n",
    "            [optimizer, loss],\n",
    "            feed_dict={features: train_features,\n",
    "                       labels: train_labels})\n",
    "        \n",
    "        return loss\n",
    "    \n",
    "\n",
    "print('Loss: {}'.format(run_lin_func_test()))"
   ]
  },
  {
   "cell_type": "code",
   "execution_count": 8,
   "metadata": {
    "collapsed": true
   },
   "outputs": [],
   "source": [
    "# Softmax normalization in TF. \n",
    "def run_softmax():\n",
    "    output = None\n",
    "    logit_data = [2.0, 1.0, 0.1]\n",
    "    logits = tf.placeholder(tf.float32)\n",
    "\n",
    "    # TODO: Calculate the softmax of the logits\n",
    "    softmax = tf.nn.softmax(logits)\n",
    "\n",
    "    with tf.Session() as sess:\n",
    "        # TODO: Feed in the logit data\n",
    "        output = sess.run(softmax, feed_dict={logits: logit_data})\n",
    "\n",
    "    return output"
   ]
  },
  {
   "cell_type": "code",
   "execution_count": 9,
   "metadata": {
    "collapsed": false
   },
   "outputs": [
    {
     "name": "stdout",
     "output_type": "stream",
     "text": [
      "[ 0.65900117  0.24243298  0.09856589]\n"
     ]
    }
   ],
   "source": [
    "# Softmax normalization in TF. \n",
    "def run_softmax():\n",
    "    output = None\n",
    "    logit_data = [2.0, 1.0, 0.1]\n",
    "    logits = tf.placeholder(tf.float32)\n",
    "\n",
    "    # TODO: Calculate the softmax of the logits\n",
    "    softmax = tf.nn.softmax(logits)\n",
    "\n",
    "    with tf.Session() as sess:\n",
    "        # TODO: Feed in the logit data\n",
    "        output = sess.run(softmax, feed_dict={logits: logit_data})\n",
    "\n",
    "    return output\n",
    "\n",
    "print(run_softmax())"
   ]
  },
  {
   "cell_type": "code",
   "execution_count": 42,
   "metadata": {
    "collapsed": false
   },
   "outputs": [
    {
     "name": "stdout",
     "output_type": "stream",
     "text": [
      "[[1 0 0 0 0]\n",
      " [0 0 0 0 1]\n",
      " [0 0 1 0 0]\n",
      " [0 1 0 0 0]\n",
      " [1 0 0 0 0]\n",
      " [0 0 0 1 0]\n",
      " [0 1 0 0 0]\n",
      " [1 0 0 0 0]\n",
      " [0 0 1 0 0]]\n"
     ]
    }
   ],
   "source": [
    "# OneHotEncoder using sklearn\n",
    "from sklearn import preprocessing\n",
    "def one_hot_encoding():\n",
    "    # Example labels\n",
    "    labels = np.array([1, 5, 3, 2, 1, 4, 2, 1, 3])\n",
    "\n",
    "    # Create the encoder\n",
    "    lb = preprocessing.LabelBinarizer()\n",
    "\n",
    "    # Here the encoder finds the classes and assigns one-hot vectors\n",
    "    lb.fit(labels)\n",
    "\n",
    "    # And finally, transform the labels into one-hot encoded vectors\n",
    "    return lb.transform(labels)\n",
    "\n",
    "print(one_hot_encoding())"
   ]
  },
  {
   "cell_type": "code",
   "execution_count": 39,
   "metadata": {
    "collapsed": false
   },
   "outputs": [
    {
     "name": "stdout",
     "output_type": "stream",
     "text": [
      "0.356675\n"
     ]
    }
   ],
   "source": [
    "# Cross Entropy in TensorFlow\n",
    "def tf_cross_entropy():\n",
    "    softmax_data = [0.7, 0.2, 0.1]\n",
    "    one_hot_data = [1.0, 0.0, 0.0]\n",
    "\n",
    "    softmax = tf.placeholder(tf.float32)\n",
    "    one_hot = tf.placeholder(tf.float32)\n",
    "    \n",
    "    # TODO: Print cross entropy from session\n",
    "    idx_mul = tf.multiply(one_hot, tf.log(softmax))\n",
    "    cross_entropy = -1.0 * tf.reduce_sum(idx_mul)\n",
    "    \n",
    "    with tf.Session() as sess:\n",
    "        # calc = -1.0 * tf.reduce_sum(tf.matmul(one_hot, softmax))\n",
    "        output = sess.run(cross_entropy, feed_dict={one_hot:one_hot_data, softmax:softmax_data})\n",
    "    \n",
    "    return output\n",
    "\n",
    "print(tf_cross_entropy())"
   ]
  },
  {
   "cell_type": "markdown",
   "metadata": {},
   "source": [
    "### Always worry about the calculation between large and small values:"
   ]
  },
  {
   "cell_type": "code",
   "execution_count": 44,
   "metadata": {
    "collapsed": false
   },
   "outputs": [
    {
     "name": "stdout",
     "output_type": "stream",
     "text": [
      "0.95367431640625\n"
     ]
    }
   ],
   "source": [
    "def what_the_hell():\n",
    "    a = 1000000000\n",
    "    for i in range(1000000):\n",
    "        a = a + 1e-6\n",
    "    return (a - 1000000000)\n",
    "\n",
    "print(what_the_hell())"
   ]
  },
  {
   "cell_type": "code",
   "execution_count": null,
   "metadata": {
    "collapsed": true
   },
   "outputs": [],
   "source": []
  }
 ],
 "metadata": {
  "kernelspec": {
   "display_name": "Python 3",
   "language": "python",
   "name": "python3"
  },
  "language_info": {
   "codemirror_mode": {
    "name": "ipython",
    "version": 3
   },
   "file_extension": ".py",
   "mimetype": "text/x-python",
   "name": "python",
   "nbconvert_exporter": "python",
   "pygments_lexer": "ipython3",
   "version": "3.5.2"
  }
 },
 "nbformat": 4,
 "nbformat_minor": 2
}
